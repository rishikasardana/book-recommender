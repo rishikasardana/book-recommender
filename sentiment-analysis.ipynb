{
 "cells": [
  {
   "cell_type": "code",
   "id": "initial_id",
   "metadata": {
    "collapsed": true,
    "ExecuteTime": {
     "end_time": "2025-09-07T04:28:50.643745Z",
     "start_time": "2025-09-07T04:28:50.595016Z"
    }
   },
   "source": [
    "import pandas as pd\n",
    "\n",
    "books = pd.read_csv(\"books_with_categories.csv\")"
   ],
   "outputs": [],
   "execution_count": 1
  },
  {
   "metadata": {
    "ExecuteTime": {
     "end_time": "2025-09-07T04:32:16.699529Z",
     "start_time": "2025-09-07T04:32:15.432820Z"
    }
   },
   "cell_type": "code",
   "source": [
    "from transformers import pipeline\n",
    "classifier = pipeline(\"text-classification\",\n",
    "                      model=\"j-hartmann/emotion-english-distilroberta-base\",\n",
    "                      top_k = None,\n",
    "                      device = \"mps\")\n",
    "classifier(\"I love this!\")\n"
   ],
   "id": "add9266a52101bec",
   "outputs": [
    {
     "name": "stderr",
     "output_type": "stream",
     "text": [
      "Device set to use mps\n"
     ]
    },
    {
     "data": {
      "text/plain": [
       "[[{'label': 'joy', 'score': 0.9771687984466553},\n",
       "  {'label': 'surprise', 'score': 0.008528688922524452},\n",
       "  {'label': 'neutral', 'score': 0.005764600355178118},\n",
       "  {'label': 'anger', 'score': 0.004419783595949411},\n",
       "  {'label': 'sadness', 'score': 0.002092391485348344},\n",
       "  {'label': 'disgust', 'score': 0.001611992483958602},\n",
       "  {'label': 'fear', 'score': 0.0004138521908316761}]]"
      ]
     },
     "execution_count": 3,
     "metadata": {},
     "output_type": "execute_result"
    }
   ],
   "execution_count": 3
  },
  {
   "metadata": {
    "ExecuteTime": {
     "end_time": "2025-09-07T04:32:48.306220Z",
     "start_time": "2025-09-07T04:32:48.299612Z"
    }
   },
   "cell_type": "code",
   "source": "books[\"description\"][0]",
   "id": "c6c4d4b85d0ae300",
   "outputs": [
    {
     "data": {
      "text/plain": [
       "'A NOVEL THAT READERS and critics have been eagerly anticipating for over a decade, Gilead is an astonishingly imagined story of remarkable lives. John Ames is a preacher, the son of a preacher and the grandson (both maternal and paternal) of preachers. It’s 1956 in Gilead, Iowa, towards the end of the Reverend Ames’s life, and he is absorbed in recording his family’s story, a legacy for the young son he will never see grow up. Haunted by his grandfather’s presence, John tells of the rift between his grandfather and his father: the elder, an angry visionary who fought for the abolitionist cause, and his son, an ardent pacifist. He is troubled, too, by his prodigal namesake, Jack (John Ames) Boughton, his best friend’s lost son who returns to Gilead searching for forgiveness and redemption. Told in John Ames’s joyous, rambling voice that finds beauty, humour and truth in the smallest of life’s details, Gilead is a song of celebration and acceptance of the best and the worst the world has to offer. At its heart is a tale of the sacred bonds between fathers and sons, pitch-perfect in style and story, set to dazzle critics and readers alike.'"
      ]
     },
     "execution_count": 4,
     "metadata": {},
     "output_type": "execute_result"
    }
   ],
   "execution_count": 4
  },
  {
   "metadata": {
    "ExecuteTime": {
     "end_time": "2025-09-07T04:33:24.335500Z",
     "start_time": "2025-09-07T04:33:23.441980Z"
    }
   },
   "cell_type": "code",
   "source": "classifier(books[\"description\"][0])",
   "id": "65327d64b3a4274f",
   "outputs": [
    {
     "data": {
      "text/plain": [
       "[[{'label': 'fear', 'score': 0.6548417806625366},\n",
       "  {'label': 'neutral', 'score': 0.16985176503658295},\n",
       "  {'label': 'sadness', 'score': 0.11640868335962296},\n",
       "  {'label': 'surprise', 'score': 0.020700613036751747},\n",
       "  {'label': 'disgust', 'score': 0.019100749865174294},\n",
       "  {'label': 'joy', 'score': 0.015161230228841305},\n",
       "  {'label': 'anger', 'score': 0.003935153596103191}]]"
      ]
     },
     "execution_count": 5,
     "metadata": {},
     "output_type": "execute_result"
    }
   ],
   "execution_count": 5
  },
  {
   "metadata": {
    "ExecuteTime": {
     "end_time": "2025-09-07T04:33:49.961878Z",
     "start_time": "2025-09-07T04:33:44.290587Z"
    }
   },
   "cell_type": "code",
   "source": "classifier(books[\"description\"][0].split(\".\"))\n",
   "id": "44acc4e402c18bc",
   "outputs": [
    {
     "data": {
      "text/plain": [
       "[[{'label': 'surprise', 'score': 0.7296029329299927},\n",
       "  {'label': 'neutral', 'score': 0.1403854936361313},\n",
       "  {'label': 'fear', 'score': 0.06816215813159943},\n",
       "  {'label': 'joy', 'score': 0.047942403703927994},\n",
       "  {'label': 'anger', 'score': 0.009156346321105957},\n",
       "  {'label': 'disgust', 'score': 0.0026284733321517706},\n",
       "  {'label': 'sadness', 'score': 0.0021221591159701347}],\n",
       " [{'label': 'neutral', 'score': 0.4493715763092041},\n",
       "  {'label': 'disgust', 'score': 0.27359095215797424},\n",
       "  {'label': 'joy', 'score': 0.10908272117376328},\n",
       "  {'label': 'sadness', 'score': 0.09362732619047165},\n",
       "  {'label': 'anger', 'score': 0.04047819599509239},\n",
       "  {'label': 'surprise', 'score': 0.026970181614160538},\n",
       "  {'label': 'fear', 'score': 0.0068790605291724205}],\n",
       " [{'label': 'neutral', 'score': 0.6462162137031555},\n",
       "  {'label': 'sadness', 'score': 0.24273322522640228},\n",
       "  {'label': 'disgust', 'score': 0.04342261329293251},\n",
       "  {'label': 'surprise', 'score': 0.02830052375793457},\n",
       "  {'label': 'joy', 'score': 0.014211452566087246},\n",
       "  {'label': 'fear', 'score': 0.01408410258591175},\n",
       "  {'label': 'anger', 'score': 0.011031880043447018}],\n",
       " [{'label': 'fear', 'score': 0.9281686544418335},\n",
       "  {'label': 'anger', 'score': 0.03219055011868477},\n",
       "  {'label': 'neutral', 'score': 0.012808658182621002},\n",
       "  {'label': 'sadness', 'score': 0.008756828494369984},\n",
       "  {'label': 'surprise', 'score': 0.00859787967056036},\n",
       "  {'label': 'disgust', 'score': 0.008431786671280861},\n",
       "  {'label': 'joy', 'score': 0.0010455787414684892}],\n",
       " [{'label': 'sadness', 'score': 0.9671575427055359},\n",
       "  {'label': 'neutral', 'score': 0.015104170888662338},\n",
       "  {'label': 'disgust', 'score': 0.00648059556260705},\n",
       "  {'label': 'fear', 'score': 0.005393998231738806},\n",
       "  {'label': 'surprise', 'score': 0.0022869419772177935},\n",
       "  {'label': 'anger', 'score': 0.0018428885377943516},\n",
       "  {'label': 'joy', 'score': 0.00173387979157269}],\n",
       " [{'label': 'joy', 'score': 0.9327978491783142},\n",
       "  {'label': 'disgust', 'score': 0.037717241793870926},\n",
       "  {'label': 'neutral', 'score': 0.015891866758465767},\n",
       "  {'label': 'sadness', 'score': 0.006444504018872976},\n",
       "  {'label': 'anger', 'score': 0.005024983547627926},\n",
       "  {'label': 'surprise', 'score': 0.0015812069177627563},\n",
       "  {'label': 'fear', 'score': 0.0005423073307611048}],\n",
       " [{'label': 'joy', 'score': 0.6528703570365906},\n",
       "  {'label': 'neutral', 'score': 0.2542748749256134},\n",
       "  {'label': 'surprise', 'score': 0.06808321923017502},\n",
       "  {'label': 'sadness', 'score': 0.009909017011523247},\n",
       "  {'label': 'disgust', 'score': 0.006512208841741085},\n",
       "  {'label': 'anger', 'score': 0.00482131727039814},\n",
       "  {'label': 'fear', 'score': 0.0035290252417325974}],\n",
       " [{'label': 'neutral', 'score': 0.5494773983955383},\n",
       "  {'label': 'sadness', 'score': 0.11169005930423737},\n",
       "  {'label': 'disgust', 'score': 0.10400652885437012},\n",
       "  {'label': 'surprise', 'score': 0.0787653997540474},\n",
       "  {'label': 'anger', 'score': 0.06413350254297256},\n",
       "  {'label': 'fear', 'score': 0.05136270821094513},\n",
       "  {'label': 'joy', 'score': 0.04056432470679283}]]"
      ]
     },
     "execution_count": 6,
     "metadata": {},
     "output_type": "execute_result"
    }
   ],
   "execution_count": 6
  },
  {
   "metadata": {
    "ExecuteTime": {
     "end_time": "2025-09-07T04:34:23.202855Z",
     "start_time": "2025-09-07T04:34:22.640948Z"
    }
   },
   "cell_type": "code",
   "source": [
    "sentences = books[\"description\"][0].split(\".\")\n",
    "predictions = classifier(sentences)"
   ],
   "id": "cb9d918839fff67f",
   "outputs": [],
   "execution_count": 7
  },
  {
   "metadata": {
    "ExecuteTime": {
     "end_time": "2025-09-07T04:34:29.990746Z",
     "start_time": "2025-09-07T04:34:29.982664Z"
    }
   },
   "cell_type": "code",
   "source": "sentences[0]\n",
   "id": "c641db72f8c577c9",
   "outputs": [
    {
     "data": {
      "text/plain": [
       "'A NOVEL THAT READERS and critics have been eagerly anticipating for over a decade, Gilead is an astonishingly imagined story of remarkable lives'"
      ]
     },
     "execution_count": 8,
     "metadata": {},
     "output_type": "execute_result"
    }
   ],
   "execution_count": 8
  },
  {
   "metadata": {
    "ExecuteTime": {
     "end_time": "2025-09-07T04:34:40.209817Z",
     "start_time": "2025-09-07T04:34:40.205037Z"
    }
   },
   "cell_type": "code",
   "source": "predictions[0]",
   "id": "200c28f35abb490f",
   "outputs": [
    {
     "data": {
      "text/plain": [
       "[{'label': 'surprise', 'score': 0.7296029329299927},\n",
       " {'label': 'neutral', 'score': 0.1403854936361313},\n",
       " {'label': 'fear', 'score': 0.06816215813159943},\n",
       " {'label': 'joy', 'score': 0.047942403703927994},\n",
       " {'label': 'anger', 'score': 0.009156346321105957},\n",
       " {'label': 'disgust', 'score': 0.0026284733321517706},\n",
       " {'label': 'sadness', 'score': 0.0021221591159701347}]"
      ]
     },
     "execution_count": 9,
     "metadata": {},
     "output_type": "execute_result"
    }
   ],
   "execution_count": 9
  },
  {
   "metadata": {
    "ExecuteTime": {
     "end_time": "2025-09-07T04:35:32.548679Z",
     "start_time": "2025-09-07T04:35:32.542133Z"
    }
   },
   "cell_type": "code",
   "source": "sorted(predictions[0], key=lambda x: x[\"label\"])",
   "id": "95e0423ae2f7ef87",
   "outputs": [
    {
     "data": {
      "text/plain": [
       "[{'label': 'anger', 'score': 0.009156346321105957},\n",
       " {'label': 'disgust', 'score': 0.0026284733321517706},\n",
       " {'label': 'fear', 'score': 0.06816215813159943},\n",
       " {'label': 'joy', 'score': 0.047942403703927994},\n",
       " {'label': 'neutral', 'score': 0.1403854936361313},\n",
       " {'label': 'sadness', 'score': 0.0021221591159701347},\n",
       " {'label': 'surprise', 'score': 0.7296029329299927}]"
      ]
     },
     "execution_count": 10,
     "metadata": {},
     "output_type": "execute_result"
    }
   ],
   "execution_count": 10
  },
  {
   "metadata": {
    "ExecuteTime": {
     "end_time": "2025-09-07T04:35:46.522429Z",
     "start_time": "2025-09-07T04:35:46.514495Z"
    }
   },
   "cell_type": "code",
   "source": [
    "import numpy as np\n",
    "\n",
    "emotion_labels = [\"anger\", \"disgust\", \"fear\", \"joy\", \"sadness\", \"surprise\", \"neutral\"]\n",
    "isbn = []\n",
    "emotion_scores = {label: [] for label in emotion_labels}\n",
    "\n",
    "def calculate_max_emotion_scores(predictions):\n",
    "    per_emotion_scores = {label: [] for label in emotion_labels}\n",
    "    for prediction in predictions:\n",
    "        sorted_predictions = sorted(prediction, key=lambda x: x[\"label\"])\n",
    "        for index, label in enumerate(emotion_labels):\n",
    "            per_emotion_scores[label].append(sorted_predictions[index][\"score\"])\n",
    "    return {label: np.max(scores) for label, scores in per_emotion_scores.items()}"
   ],
   "id": "426acffe21770bf1",
   "outputs": [],
   "execution_count": 11
  },
  {
   "metadata": {
    "ExecuteTime": {
     "end_time": "2025-09-07T04:36:49.537045Z",
     "start_time": "2025-09-07T04:36:33.280383Z"
    }
   },
   "cell_type": "code",
   "source": [
    "for i in range(10):\n",
    "    isbn.append(books[\"isbn13\"][i])\n",
    "    sentences = books[\"description\"][i].split(\".\")\n",
    "    predictions = classifier(sentences)\n",
    "    max_scores = calculate_max_emotion_scores(predictions)\n",
    "    for label in emotion_labels:\n",
    "        emotion_scores[label].append(max_scores[label])"
   ],
   "id": "5c2df92f02604c2e",
   "outputs": [],
   "execution_count": 12
  },
  {
   "metadata": {
    "ExecuteTime": {
     "end_time": "2025-09-07T04:37:12.496822Z",
     "start_time": "2025-09-07T04:37:12.487639Z"
    }
   },
   "cell_type": "code",
   "source": "emotion_scores",
   "id": "8f3e5c8aa7db1735",
   "outputs": [
    {
     "data": {
      "text/plain": [
       "{'anger': [np.float64(0.06413350254297256),\n",
       "  np.float64(0.6126184463500977),\n",
       "  np.float64(0.06413350254297256),\n",
       "  np.float64(0.35148346424102783),\n",
       "  np.float64(0.0814124122262001),\n",
       "  np.float64(0.23222514986991882),\n",
       "  np.float64(0.538184642791748),\n",
       "  np.float64(0.06413350254297256),\n",
       "  np.float64(0.30067020654678345),\n",
       "  np.float64(0.06413350254297256)],\n",
       " 'disgust': [np.float64(0.27359095215797424),\n",
       "  np.float64(0.3482852578163147),\n",
       "  np.float64(0.10400652885437012),\n",
       "  np.float64(0.15072233974933624),\n",
       "  np.float64(0.1844949722290039),\n",
       "  np.float64(0.7271745800971985),\n",
       "  np.float64(0.15585485100746155),\n",
       "  np.float64(0.10400652885437012),\n",
       "  np.float64(0.27948108315467834),\n",
       "  np.float64(0.17792756855487823)],\n",
       " 'fear': [np.float64(0.9281686544418335),\n",
       "  np.float64(0.942527711391449),\n",
       "  np.float64(0.9723208546638489),\n",
       "  np.float64(0.36070725321769714),\n",
       "  np.float64(0.09504333883523941),\n",
       "  np.float64(0.05136270821094513),\n",
       "  np.float64(0.7474278807640076),\n",
       "  np.float64(0.40449634194374084),\n",
       "  np.float64(0.9155241250991821),\n",
       "  np.float64(0.05136270821094513)],\n",
       " 'joy': [np.float64(0.9327978491783142),\n",
       "  np.float64(0.704421877861023),\n",
       "  np.float64(0.7672373056411743),\n",
       "  np.float64(0.251880943775177),\n",
       "  np.float64(0.04056432470679283),\n",
       "  np.float64(0.04337580129504204),\n",
       "  np.float64(0.8725649118423462),\n",
       "  np.float64(0.04056432470679283),\n",
       "  np.float64(0.04056432470679283),\n",
       "  np.float64(0.04056432470679283)],\n",
       " 'sadness': [np.float64(0.6462162137031555),\n",
       "  np.float64(0.8879395127296448),\n",
       "  np.float64(0.5494773983955383),\n",
       "  np.float64(0.7326861619949341),\n",
       "  np.float64(0.8843892216682434),\n",
       "  np.float64(0.6213927865028381),\n",
       "  np.float64(0.7121945023536682),\n",
       "  np.float64(0.5494773983955383),\n",
       "  np.float64(0.8402897715568542),\n",
       "  np.float64(0.8603722453117371)],\n",
       " 'surprise': [np.float64(0.9671575427055359),\n",
       "  np.float64(0.11169005930423737),\n",
       "  np.float64(0.11169005930423737),\n",
       "  np.float64(0.11169005930423737),\n",
       "  np.float64(0.4758809804916382),\n",
       "  np.float64(0.11169005930423737),\n",
       "  np.float64(0.40799906849861145),\n",
       "  np.float64(0.8202822804450989),\n",
       "  np.float64(0.35445988178253174),\n",
       "  np.float64(0.11169005930423737)],\n",
       " 'neutral': [np.float64(0.7296029329299927),\n",
       "  np.float64(0.25254470109939575),\n",
       "  np.float64(0.0787653997540474),\n",
       "  np.float64(0.0787653997540474),\n",
       "  np.float64(0.0787653997540474),\n",
       "  np.float64(0.2719026505947113),\n",
       "  np.float64(0.0787653997540474),\n",
       "  np.float64(0.23448747396469116),\n",
       "  np.float64(0.1356147974729538),\n",
       "  np.float64(0.0787653997540474)]}"
      ]
     },
     "execution_count": 13,
     "metadata": {},
     "output_type": "execute_result"
    }
   ],
   "execution_count": 13
  },
  {
   "metadata": {
    "ExecuteTime": {
     "end_time": "2025-09-07T05:04:54.685555Z",
     "start_time": "2025-09-07T04:50:40.585723Z"
    }
   },
   "cell_type": "code",
   "source": [
    "from tqdm import tqdm\n",
    "import numpy as np\n",
    "\n",
    "emotion_labels = [\"anger\", \"disgust\", \"fear\", \"joy\", \"sadness\", \"surprise\", \"neutral\"]\n",
    "isbn = []\n",
    "emotion_scores = {label: [] for label in emotion_labels}\n",
    "\n",
    "for i in tqdm(range(len(books))):\n",
    "    isbn.append(books[\"isbn13\"][i])\n",
    "    desc = books[\"description\"][i]\n",
    "    if isinstance(desc, str) and desc.strip():  # only process non-empty strings\n",
    "        sentences = desc.split(\".\")\n",
    "        predictions = classifier(sentences)\n",
    "        max_scores = calculate_max_emotion_scores(predictions)\n",
    "        for label in emotion_labels:\n",
    "            emotion_scores[label].append(max_scores[label])\n",
    "    else:\n",
    "        # fill with NaNs or zeros for missing descriptions\n",
    "        for label in emotion_labels:\n",
    "            emotion_scores[label].append(np.nan)\n"
   ],
   "id": "5e4a3c84346f7946",
   "outputs": [
    {
     "name": "stderr",
     "output_type": "stream",
     "text": [
      "100%|██████████| 5199/5199 [14:14<00:00,  6.09it/s]\n"
     ]
    }
   ],
   "execution_count": 15
  },
  {
   "metadata": {
    "ExecuteTime": {
     "end_time": "2025-09-07T05:05:35.730083Z",
     "start_time": "2025-09-07T05:05:35.687814Z"
    }
   },
   "cell_type": "code",
   "source": [
    "emotions_df = pd.DataFrame(emotion_scores)\n",
    "emotions_df[\"isbn13\"] = isbn"
   ],
   "id": "867b421c9ee3cb2",
   "outputs": [],
   "execution_count": 16
  },
  {
   "metadata": {
    "ExecuteTime": {
     "end_time": "2025-09-07T05:05:44.872992Z",
     "start_time": "2025-09-07T05:05:44.845143Z"
    }
   },
   "cell_type": "code",
   "source": "emotions_df",
   "id": "57d83f563ec2ade7",
   "outputs": [
    {
     "data": {
      "text/plain": [
       "         anger   disgust      fear       joy   sadness  surprise   neutral  \\\n",
       "0     0.064134  0.273591  0.928169  0.932798  0.646216  0.967158  0.729603   \n",
       "1     0.612618  0.348285  0.942528  0.704422  0.887940  0.111690  0.252545   \n",
       "2     0.064134  0.104007  0.972321  0.767237  0.549477  0.111690  0.078765   \n",
       "3     0.351483  0.150722  0.360707  0.251881  0.732686  0.111690  0.078765   \n",
       "4     0.081412  0.184495  0.095043  0.040564  0.884389  0.475881  0.078765   \n",
       "...        ...       ...       ...       ...       ...       ...       ...   \n",
       "5194  0.009997  0.009929  0.339216  0.947779  0.375757  0.066685  0.057625   \n",
       "5195  0.064134  0.104007  0.459269  0.759455  0.951104  0.368111  0.078765   \n",
       "5196  0.064134  0.104007  0.051363  0.958549  0.915193  0.111690  0.078765   \n",
       "5197       NaN       NaN       NaN       NaN       NaN       NaN       NaN   \n",
       "5198       NaN       NaN       NaN       NaN       NaN       NaN       NaN   \n",
       "\n",
       "            isbn13  \n",
       "0     9.780002e+12  \n",
       "1     9.780002e+12  \n",
       "2     9.780006e+12  \n",
       "3     9.780006e+12  \n",
       "4     9.780006e+12  \n",
       "...            ...  \n",
       "5194  9.788180e+12  \n",
       "5195  9.788185e+12  \n",
       "5196  9.789028e+12  \n",
       "5197           NaN  \n",
       "5198           NaN  \n",
       "\n",
       "[5199 rows x 8 columns]"
      ],
      "text/html": [
       "<div>\n",
       "<style scoped>\n",
       "    .dataframe tbody tr th:only-of-type {\n",
       "        vertical-align: middle;\n",
       "    }\n",
       "\n",
       "    .dataframe tbody tr th {\n",
       "        vertical-align: top;\n",
       "    }\n",
       "\n",
       "    .dataframe thead th {\n",
       "        text-align: right;\n",
       "    }\n",
       "</style>\n",
       "<table border=\"1\" class=\"dataframe\">\n",
       "  <thead>\n",
       "    <tr style=\"text-align: right;\">\n",
       "      <th></th>\n",
       "      <th>anger</th>\n",
       "      <th>disgust</th>\n",
       "      <th>fear</th>\n",
       "      <th>joy</th>\n",
       "      <th>sadness</th>\n",
       "      <th>surprise</th>\n",
       "      <th>neutral</th>\n",
       "      <th>isbn13</th>\n",
       "    </tr>\n",
       "  </thead>\n",
       "  <tbody>\n",
       "    <tr>\n",
       "      <th>0</th>\n",
       "      <td>0.064134</td>\n",
       "      <td>0.273591</td>\n",
       "      <td>0.928169</td>\n",
       "      <td>0.932798</td>\n",
       "      <td>0.646216</td>\n",
       "      <td>0.967158</td>\n",
       "      <td>0.729603</td>\n",
       "      <td>9.780002e+12</td>\n",
       "    </tr>\n",
       "    <tr>\n",
       "      <th>1</th>\n",
       "      <td>0.612618</td>\n",
       "      <td>0.348285</td>\n",
       "      <td>0.942528</td>\n",
       "      <td>0.704422</td>\n",
       "      <td>0.887940</td>\n",
       "      <td>0.111690</td>\n",
       "      <td>0.252545</td>\n",
       "      <td>9.780002e+12</td>\n",
       "    </tr>\n",
       "    <tr>\n",
       "      <th>2</th>\n",
       "      <td>0.064134</td>\n",
       "      <td>0.104007</td>\n",
       "      <td>0.972321</td>\n",
       "      <td>0.767237</td>\n",
       "      <td>0.549477</td>\n",
       "      <td>0.111690</td>\n",
       "      <td>0.078765</td>\n",
       "      <td>9.780006e+12</td>\n",
       "    </tr>\n",
       "    <tr>\n",
       "      <th>3</th>\n",
       "      <td>0.351483</td>\n",
       "      <td>0.150722</td>\n",
       "      <td>0.360707</td>\n",
       "      <td>0.251881</td>\n",
       "      <td>0.732686</td>\n",
       "      <td>0.111690</td>\n",
       "      <td>0.078765</td>\n",
       "      <td>9.780006e+12</td>\n",
       "    </tr>\n",
       "    <tr>\n",
       "      <th>4</th>\n",
       "      <td>0.081412</td>\n",
       "      <td>0.184495</td>\n",
       "      <td>0.095043</td>\n",
       "      <td>0.040564</td>\n",
       "      <td>0.884389</td>\n",
       "      <td>0.475881</td>\n",
       "      <td>0.078765</td>\n",
       "      <td>9.780006e+12</td>\n",
       "    </tr>\n",
       "    <tr>\n",
       "      <th>...</th>\n",
       "      <td>...</td>\n",
       "      <td>...</td>\n",
       "      <td>...</td>\n",
       "      <td>...</td>\n",
       "      <td>...</td>\n",
       "      <td>...</td>\n",
       "      <td>...</td>\n",
       "      <td>...</td>\n",
       "    </tr>\n",
       "    <tr>\n",
       "      <th>5194</th>\n",
       "      <td>0.009997</td>\n",
       "      <td>0.009929</td>\n",
       "      <td>0.339216</td>\n",
       "      <td>0.947779</td>\n",
       "      <td>0.375757</td>\n",
       "      <td>0.066685</td>\n",
       "      <td>0.057625</td>\n",
       "      <td>9.788180e+12</td>\n",
       "    </tr>\n",
       "    <tr>\n",
       "      <th>5195</th>\n",
       "      <td>0.064134</td>\n",
       "      <td>0.104007</td>\n",
       "      <td>0.459269</td>\n",
       "      <td>0.759455</td>\n",
       "      <td>0.951104</td>\n",
       "      <td>0.368111</td>\n",
       "      <td>0.078765</td>\n",
       "      <td>9.788185e+12</td>\n",
       "    </tr>\n",
       "    <tr>\n",
       "      <th>5196</th>\n",
       "      <td>0.064134</td>\n",
       "      <td>0.104007</td>\n",
       "      <td>0.051363</td>\n",
       "      <td>0.958549</td>\n",
       "      <td>0.915193</td>\n",
       "      <td>0.111690</td>\n",
       "      <td>0.078765</td>\n",
       "      <td>9.789028e+12</td>\n",
       "    </tr>\n",
       "    <tr>\n",
       "      <th>5197</th>\n",
       "      <td>NaN</td>\n",
       "      <td>NaN</td>\n",
       "      <td>NaN</td>\n",
       "      <td>NaN</td>\n",
       "      <td>NaN</td>\n",
       "      <td>NaN</td>\n",
       "      <td>NaN</td>\n",
       "      <td>NaN</td>\n",
       "    </tr>\n",
       "    <tr>\n",
       "      <th>5198</th>\n",
       "      <td>NaN</td>\n",
       "      <td>NaN</td>\n",
       "      <td>NaN</td>\n",
       "      <td>NaN</td>\n",
       "      <td>NaN</td>\n",
       "      <td>NaN</td>\n",
       "      <td>NaN</td>\n",
       "      <td>NaN</td>\n",
       "    </tr>\n",
       "  </tbody>\n",
       "</table>\n",
       "<p>5199 rows × 8 columns</p>\n",
       "</div>"
      ]
     },
     "execution_count": 17,
     "metadata": {},
     "output_type": "execute_result"
    }
   ],
   "execution_count": 17
  },
  {
   "metadata": {
    "ExecuteTime": {
     "end_time": "2025-09-07T05:06:10.111648Z",
     "start_time": "2025-09-07T05:06:10.072067Z"
    }
   },
   "cell_type": "code",
   "source": "books = pd.merge(books, emotions_df, on = \"isbn13\")\n",
   "id": "754bc1c450fdbeb4",
   "outputs": [],
   "execution_count": 18
  },
  {
   "metadata": {
    "ExecuteTime": {
     "end_time": "2025-09-07T05:06:15.531929Z",
     "start_time": "2025-09-07T05:06:15.507908Z"
    }
   },
   "cell_type": "code",
   "source": "books\n",
   "id": "b236f627eff11d86",
   "outputs": [
    {
     "data": {
      "text/plain": [
       "            isbn13      isbn10                     title  \\\n",
       "0     9.780002e+12  0002005883                    Gilead   \n",
       "1     9.780002e+12  0002261987              Spider's Web   \n",
       "2     9.780006e+12  0006178731            Rage of angels   \n",
       "3     9.780006e+12  0006280897            The Four Loves   \n",
       "4     9.780006e+12  0006280935       The Problem of Pain   \n",
       "...            ...         ...                       ...   \n",
       "5196  9.789028e+12  9027712050  The Berlin Phenomenology   \n",
       "5197           NaN         NaN                       NaN   \n",
       "5198           NaN         NaN                       NaN   \n",
       "5199           NaN         NaN                       NaN   \n",
       "5200           NaN         NaN                       NaN   \n",
       "\n",
       "                              authors                     categories  \\\n",
       "0                  Marilynne Robinson                        Fiction   \n",
       "1     Charles Osborne;Agatha Christie  Detective and mystery stories   \n",
       "2                      Sidney Sheldon                        Fiction   \n",
       "3                 Clive Staples Lewis                 Christian life   \n",
       "4                 Clive Staples Lewis                 Christian life   \n",
       "...                               ...                            ...   \n",
       "5196    Georg Wilhelm Friedrich Hegel                        History   \n",
       "5197                              NaN                            NaN   \n",
       "5198                              NaN                            NaN   \n",
       "5199                              NaN                            NaN   \n",
       "5200                              NaN                            NaN   \n",
       "\n",
       "                                              thumbnail  \\\n",
       "0     http://books.google.com/books/content?id=KQZCP...   \n",
       "1     http://books.google.com/books/content?id=gA5GP...   \n",
       "2     http://books.google.com/books/content?id=FKo2T...   \n",
       "3     http://books.google.com/books/content?id=XhQ5X...   \n",
       "4     http://books.google.com/books/content?id=Kk-uV...   \n",
       "...                                                 ...   \n",
       "5196  http://books.google.com/books/content?id=Vy7Sk...   \n",
       "5197                                                NaN   \n",
       "5198                                                NaN   \n",
       "5199                                                NaN   \n",
       "5200                                                NaN   \n",
       "\n",
       "                                            description  published_year  \\\n",
       "0     A NOVEL THAT READERS and critics have been eag...          2004.0   \n",
       "1     A new 'Christie for Christmas' -- a full-lengt...          2000.0   \n",
       "2     A memorable, mesmerizing heroine Jennifer -- b...          1993.0   \n",
       "3     Lewis' work on the nature of love divides love...          2002.0   \n",
       "4     \"In The Problem of Pain, C.S. Lewis, one of th...          2002.0   \n",
       "...                                                 ...             ...   \n",
       "5196  Since the three volume edition ofHegel's Philo...          1981.0   \n",
       "5197                                                NaN             NaN   \n",
       "5198                                                NaN             NaN   \n",
       "5199                                                NaN             NaN   \n",
       "5200                                                NaN             NaN   \n",
       "\n",
       "      average_rating  num_pages  ratings_count simple_categories     anger  \\\n",
       "0               3.85      247.0          361.0           Fiction  0.064134   \n",
       "1               3.83      241.0         5164.0           Fiction  0.612618   \n",
       "2               3.93      512.0        29532.0           Fiction  0.064134   \n",
       "3               4.15      170.0        33684.0        Nonfiction  0.351483   \n",
       "4               4.09      176.0        37569.0        Nonfiction  0.081412   \n",
       "...              ...        ...            ...               ...       ...   \n",
       "5196            0.00      210.0            0.0        Nonfiction  0.064134   \n",
       "5197             NaN        NaN            NaN               NaN       NaN   \n",
       "5198             NaN        NaN            NaN               NaN       NaN   \n",
       "5199             NaN        NaN            NaN               NaN       NaN   \n",
       "5200             NaN        NaN            NaN               NaN       NaN   \n",
       "\n",
       "       disgust      fear       joy   sadness  surprise   neutral  \n",
       "0     0.273591  0.928169  0.932798  0.646216  0.967158  0.729603  \n",
       "1     0.348285  0.942528  0.704422  0.887940  0.111690  0.252545  \n",
       "2     0.104007  0.972321  0.767237  0.549477  0.111690  0.078765  \n",
       "3     0.150722  0.360707  0.251881  0.732686  0.111690  0.078765  \n",
       "4     0.184495  0.095043  0.040564  0.884389  0.475881  0.078765  \n",
       "...        ...       ...       ...       ...       ...       ...  \n",
       "5196  0.104007  0.051363  0.958549  0.915193  0.111690  0.078765  \n",
       "5197       NaN       NaN       NaN       NaN       NaN       NaN  \n",
       "5198       NaN       NaN       NaN       NaN       NaN       NaN  \n",
       "5199       NaN       NaN       NaN       NaN       NaN       NaN  \n",
       "5200       NaN       NaN       NaN       NaN       NaN       NaN  \n",
       "\n",
       "[5201 rows x 19 columns]"
      ],
      "text/html": [
       "<div>\n",
       "<style scoped>\n",
       "    .dataframe tbody tr th:only-of-type {\n",
       "        vertical-align: middle;\n",
       "    }\n",
       "\n",
       "    .dataframe tbody tr th {\n",
       "        vertical-align: top;\n",
       "    }\n",
       "\n",
       "    .dataframe thead th {\n",
       "        text-align: right;\n",
       "    }\n",
       "</style>\n",
       "<table border=\"1\" class=\"dataframe\">\n",
       "  <thead>\n",
       "    <tr style=\"text-align: right;\">\n",
       "      <th></th>\n",
       "      <th>isbn13</th>\n",
       "      <th>isbn10</th>\n",
       "      <th>title</th>\n",
       "      <th>authors</th>\n",
       "      <th>categories</th>\n",
       "      <th>thumbnail</th>\n",
       "      <th>description</th>\n",
       "      <th>published_year</th>\n",
       "      <th>average_rating</th>\n",
       "      <th>num_pages</th>\n",
       "      <th>ratings_count</th>\n",
       "      <th>simple_categories</th>\n",
       "      <th>anger</th>\n",
       "      <th>disgust</th>\n",
       "      <th>fear</th>\n",
       "      <th>joy</th>\n",
       "      <th>sadness</th>\n",
       "      <th>surprise</th>\n",
       "      <th>neutral</th>\n",
       "    </tr>\n",
       "  </thead>\n",
       "  <tbody>\n",
       "    <tr>\n",
       "      <th>0</th>\n",
       "      <td>9.780002e+12</td>\n",
       "      <td>0002005883</td>\n",
       "      <td>Gilead</td>\n",
       "      <td>Marilynne Robinson</td>\n",
       "      <td>Fiction</td>\n",
       "      <td>http://books.google.com/books/content?id=KQZCP...</td>\n",
       "      <td>A NOVEL THAT READERS and critics have been eag...</td>\n",
       "      <td>2004.0</td>\n",
       "      <td>3.85</td>\n",
       "      <td>247.0</td>\n",
       "      <td>361.0</td>\n",
       "      <td>Fiction</td>\n",
       "      <td>0.064134</td>\n",
       "      <td>0.273591</td>\n",
       "      <td>0.928169</td>\n",
       "      <td>0.932798</td>\n",
       "      <td>0.646216</td>\n",
       "      <td>0.967158</td>\n",
       "      <td>0.729603</td>\n",
       "    </tr>\n",
       "    <tr>\n",
       "      <th>1</th>\n",
       "      <td>9.780002e+12</td>\n",
       "      <td>0002261987</td>\n",
       "      <td>Spider's Web</td>\n",
       "      <td>Charles Osborne;Agatha Christie</td>\n",
       "      <td>Detective and mystery stories</td>\n",
       "      <td>http://books.google.com/books/content?id=gA5GP...</td>\n",
       "      <td>A new 'Christie for Christmas' -- a full-lengt...</td>\n",
       "      <td>2000.0</td>\n",
       "      <td>3.83</td>\n",
       "      <td>241.0</td>\n",
       "      <td>5164.0</td>\n",
       "      <td>Fiction</td>\n",
       "      <td>0.612618</td>\n",
       "      <td>0.348285</td>\n",
       "      <td>0.942528</td>\n",
       "      <td>0.704422</td>\n",
       "      <td>0.887940</td>\n",
       "      <td>0.111690</td>\n",
       "      <td>0.252545</td>\n",
       "    </tr>\n",
       "    <tr>\n",
       "      <th>2</th>\n",
       "      <td>9.780006e+12</td>\n",
       "      <td>0006178731</td>\n",
       "      <td>Rage of angels</td>\n",
       "      <td>Sidney Sheldon</td>\n",
       "      <td>Fiction</td>\n",
       "      <td>http://books.google.com/books/content?id=FKo2T...</td>\n",
       "      <td>A memorable, mesmerizing heroine Jennifer -- b...</td>\n",
       "      <td>1993.0</td>\n",
       "      <td>3.93</td>\n",
       "      <td>512.0</td>\n",
       "      <td>29532.0</td>\n",
       "      <td>Fiction</td>\n",
       "      <td>0.064134</td>\n",
       "      <td>0.104007</td>\n",
       "      <td>0.972321</td>\n",
       "      <td>0.767237</td>\n",
       "      <td>0.549477</td>\n",
       "      <td>0.111690</td>\n",
       "      <td>0.078765</td>\n",
       "    </tr>\n",
       "    <tr>\n",
       "      <th>3</th>\n",
       "      <td>9.780006e+12</td>\n",
       "      <td>0006280897</td>\n",
       "      <td>The Four Loves</td>\n",
       "      <td>Clive Staples Lewis</td>\n",
       "      <td>Christian life</td>\n",
       "      <td>http://books.google.com/books/content?id=XhQ5X...</td>\n",
       "      <td>Lewis' work on the nature of love divides love...</td>\n",
       "      <td>2002.0</td>\n",
       "      <td>4.15</td>\n",
       "      <td>170.0</td>\n",
       "      <td>33684.0</td>\n",
       "      <td>Nonfiction</td>\n",
       "      <td>0.351483</td>\n",
       "      <td>0.150722</td>\n",
       "      <td>0.360707</td>\n",
       "      <td>0.251881</td>\n",
       "      <td>0.732686</td>\n",
       "      <td>0.111690</td>\n",
       "      <td>0.078765</td>\n",
       "    </tr>\n",
       "    <tr>\n",
       "      <th>4</th>\n",
       "      <td>9.780006e+12</td>\n",
       "      <td>0006280935</td>\n",
       "      <td>The Problem of Pain</td>\n",
       "      <td>Clive Staples Lewis</td>\n",
       "      <td>Christian life</td>\n",
       "      <td>http://books.google.com/books/content?id=Kk-uV...</td>\n",
       "      <td>\"In The Problem of Pain, C.S. Lewis, one of th...</td>\n",
       "      <td>2002.0</td>\n",
       "      <td>4.09</td>\n",
       "      <td>176.0</td>\n",
       "      <td>37569.0</td>\n",
       "      <td>Nonfiction</td>\n",
       "      <td>0.081412</td>\n",
       "      <td>0.184495</td>\n",
       "      <td>0.095043</td>\n",
       "      <td>0.040564</td>\n",
       "      <td>0.884389</td>\n",
       "      <td>0.475881</td>\n",
       "      <td>0.078765</td>\n",
       "    </tr>\n",
       "    <tr>\n",
       "      <th>...</th>\n",
       "      <td>...</td>\n",
       "      <td>...</td>\n",
       "      <td>...</td>\n",
       "      <td>...</td>\n",
       "      <td>...</td>\n",
       "      <td>...</td>\n",
       "      <td>...</td>\n",
       "      <td>...</td>\n",
       "      <td>...</td>\n",
       "      <td>...</td>\n",
       "      <td>...</td>\n",
       "      <td>...</td>\n",
       "      <td>...</td>\n",
       "      <td>...</td>\n",
       "      <td>...</td>\n",
       "      <td>...</td>\n",
       "      <td>...</td>\n",
       "      <td>...</td>\n",
       "      <td>...</td>\n",
       "    </tr>\n",
       "    <tr>\n",
       "      <th>5196</th>\n",
       "      <td>9.789028e+12</td>\n",
       "      <td>9027712050</td>\n",
       "      <td>The Berlin Phenomenology</td>\n",
       "      <td>Georg Wilhelm Friedrich Hegel</td>\n",
       "      <td>History</td>\n",
       "      <td>http://books.google.com/books/content?id=Vy7Sk...</td>\n",
       "      <td>Since the three volume edition ofHegel's Philo...</td>\n",
       "      <td>1981.0</td>\n",
       "      <td>0.00</td>\n",
       "      <td>210.0</td>\n",
       "      <td>0.0</td>\n",
       "      <td>Nonfiction</td>\n",
       "      <td>0.064134</td>\n",
       "      <td>0.104007</td>\n",
       "      <td>0.051363</td>\n",
       "      <td>0.958549</td>\n",
       "      <td>0.915193</td>\n",
       "      <td>0.111690</td>\n",
       "      <td>0.078765</td>\n",
       "    </tr>\n",
       "    <tr>\n",
       "      <th>5197</th>\n",
       "      <td>NaN</td>\n",
       "      <td>NaN</td>\n",
       "      <td>NaN</td>\n",
       "      <td>NaN</td>\n",
       "      <td>NaN</td>\n",
       "      <td>NaN</td>\n",
       "      <td>NaN</td>\n",
       "      <td>NaN</td>\n",
       "      <td>NaN</td>\n",
       "      <td>NaN</td>\n",
       "      <td>NaN</td>\n",
       "      <td>NaN</td>\n",
       "      <td>NaN</td>\n",
       "      <td>NaN</td>\n",
       "      <td>NaN</td>\n",
       "      <td>NaN</td>\n",
       "      <td>NaN</td>\n",
       "      <td>NaN</td>\n",
       "      <td>NaN</td>\n",
       "    </tr>\n",
       "    <tr>\n",
       "      <th>5198</th>\n",
       "      <td>NaN</td>\n",
       "      <td>NaN</td>\n",
       "      <td>NaN</td>\n",
       "      <td>NaN</td>\n",
       "      <td>NaN</td>\n",
       "      <td>NaN</td>\n",
       "      <td>NaN</td>\n",
       "      <td>NaN</td>\n",
       "      <td>NaN</td>\n",
       "      <td>NaN</td>\n",
       "      <td>NaN</td>\n",
       "      <td>NaN</td>\n",
       "      <td>NaN</td>\n",
       "      <td>NaN</td>\n",
       "      <td>NaN</td>\n",
       "      <td>NaN</td>\n",
       "      <td>NaN</td>\n",
       "      <td>NaN</td>\n",
       "      <td>NaN</td>\n",
       "    </tr>\n",
       "    <tr>\n",
       "      <th>5199</th>\n",
       "      <td>NaN</td>\n",
       "      <td>NaN</td>\n",
       "      <td>NaN</td>\n",
       "      <td>NaN</td>\n",
       "      <td>NaN</td>\n",
       "      <td>NaN</td>\n",
       "      <td>NaN</td>\n",
       "      <td>NaN</td>\n",
       "      <td>NaN</td>\n",
       "      <td>NaN</td>\n",
       "      <td>NaN</td>\n",
       "      <td>NaN</td>\n",
       "      <td>NaN</td>\n",
       "      <td>NaN</td>\n",
       "      <td>NaN</td>\n",
       "      <td>NaN</td>\n",
       "      <td>NaN</td>\n",
       "      <td>NaN</td>\n",
       "      <td>NaN</td>\n",
       "    </tr>\n",
       "    <tr>\n",
       "      <th>5200</th>\n",
       "      <td>NaN</td>\n",
       "      <td>NaN</td>\n",
       "      <td>NaN</td>\n",
       "      <td>NaN</td>\n",
       "      <td>NaN</td>\n",
       "      <td>NaN</td>\n",
       "      <td>NaN</td>\n",
       "      <td>NaN</td>\n",
       "      <td>NaN</td>\n",
       "      <td>NaN</td>\n",
       "      <td>NaN</td>\n",
       "      <td>NaN</td>\n",
       "      <td>NaN</td>\n",
       "      <td>NaN</td>\n",
       "      <td>NaN</td>\n",
       "      <td>NaN</td>\n",
       "      <td>NaN</td>\n",
       "      <td>NaN</td>\n",
       "      <td>NaN</td>\n",
       "    </tr>\n",
       "  </tbody>\n",
       "</table>\n",
       "<p>5201 rows × 19 columns</p>\n",
       "</div>"
      ]
     },
     "execution_count": 19,
     "metadata": {},
     "output_type": "execute_result"
    }
   ],
   "execution_count": 19
  },
  {
   "metadata": {
    "ExecuteTime": {
     "end_time": "2025-09-07T05:06:54.077121Z",
     "start_time": "2025-09-07T05:06:53.947538Z"
    }
   },
   "cell_type": "code",
   "source": "books.to_csv(\"books_with_emotions.csv\", index = False)",
   "id": "781392785c14fc24",
   "outputs": [],
   "execution_count": 20
  },
  {
   "metadata": {},
   "cell_type": "code",
   "outputs": [],
   "execution_count": null,
   "source": "",
   "id": "e390aad1b1c66332"
  }
 ],
 "metadata": {
  "kernelspec": {
   "display_name": "Python 3",
   "language": "python",
   "name": "python3"
  },
  "language_info": {
   "codemirror_mode": {
    "name": "ipython",
    "version": 2
   },
   "file_extension": ".py",
   "mimetype": "text/x-python",
   "name": "python",
   "nbconvert_exporter": "python",
   "pygments_lexer": "ipython2",
   "version": "2.7.6"
  }
 },
 "nbformat": 4,
 "nbformat_minor": 5
}
